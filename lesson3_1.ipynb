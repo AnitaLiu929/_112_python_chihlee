{
 "cells": [
  {
   "cell_type": "code",
   "execution_count": 2,
   "metadata": {},
   "outputs": [
    {
     "name": "stdout",
     "output_type": "stream",
     "text": [
      "您是成年\n",
      "27\n",
      "應用程式結束\n"
     ]
    }
   ],
   "source": [
    "\"雙向選擇\"\n",
    "age=int(input(\"請輸入age:\"))\n",
    "if age >= 20: \n",
    "    print(\"您是成年\")\n",
    "    print(age)\n",
    "else:\n",
    "    print(\"您是未成年\")\n",
    "    prtin(age)\n",
    "print(\"應用程式結束\")\n"
   ]
  }
 ],
 "metadata": {
  "kernelspec": {
   "display_name": "Python 3",
   "language": "python",
   "name": "python3"
  },
  "language_info": {
   "codemirror_mode": {
    "name": "ipython",
    "version": 3
   },
   "file_extension": ".py",
   "mimetype": "text/x-python",
   "name": "python",
   "nbconvert_exporter": "python",
   "pygments_lexer": "ipython3",
   "version": "3.10.8"
  }
 },
 "nbformat": 4,
 "nbformat_minor": 2
}
